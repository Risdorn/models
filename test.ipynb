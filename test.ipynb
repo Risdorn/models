{
 "cells": [
  {
   "cell_type": "code",
   "execution_count": 1,
   "id": "75fbd361",
   "metadata": {},
   "outputs": [
    {
     "name": "stdout",
     "output_type": "stream",
     "text": [
      "Collecting diffusers\n",
      "  Downloading diffusers-0.34.0-py3-none-any.whl.metadata (20 kB)\n",
      "Requirement already satisfied: importlib_metadata in c:\\users\\rishabh\\miniconda3_v1\\envs\\degree_stuff\\lib\\site-packages (from diffusers) (8.6.1)\n",
      "Requirement already satisfied: filelock in c:\\users\\rishabh\\miniconda3_v1\\envs\\degree_stuff\\lib\\site-packages (from diffusers) (3.18.0)\n",
      "Requirement already satisfied: huggingface-hub>=0.27.0 in c:\\users\\rishabh\\miniconda3_v1\\envs\\degree_stuff\\lib\\site-packages (from diffusers) (0.30.2)\n",
      "Requirement already satisfied: numpy in c:\\users\\rishabh\\miniconda3_v1\\envs\\degree_stuff\\lib\\site-packages (from diffusers) (1.23.5)\n",
      "Requirement already satisfied: regex!=2019.12.17 in c:\\users\\rishabh\\miniconda3_v1\\envs\\degree_stuff\\lib\\site-packages (from diffusers) (2024.11.6)\n",
      "Requirement already satisfied: requests in c:\\users\\rishabh\\miniconda3_v1\\envs\\degree_stuff\\lib\\site-packages (from diffusers) (2.32.3)\n",
      "Requirement already satisfied: safetensors>=0.3.1 in c:\\users\\rishabh\\miniconda3_v1\\envs\\degree_stuff\\lib\\site-packages (from diffusers) (0.5.3)\n",
      "Requirement already satisfied: Pillow in c:\\users\\rishabh\\miniconda3_v1\\envs\\degree_stuff\\lib\\site-packages (from diffusers) (11.2.1)\n",
      "Requirement already satisfied: fsspec>=2023.5.0 in c:\\users\\rishabh\\miniconda3_v1\\envs\\degree_stuff\\lib\\site-packages (from huggingface-hub>=0.27.0->diffusers) (2025.3.0)\n",
      "Requirement already satisfied: packaging>=20.9 in c:\\users\\rishabh\\miniconda3_v1\\envs\\degree_stuff\\lib\\site-packages (from huggingface-hub>=0.27.0->diffusers) (25.0)\n",
      "Requirement already satisfied: pyyaml>=5.1 in c:\\users\\rishabh\\miniconda3_v1\\envs\\degree_stuff\\lib\\site-packages (from huggingface-hub>=0.27.0->diffusers) (6.0.2)\n",
      "Requirement already satisfied: tqdm>=4.42.1 in c:\\users\\rishabh\\miniconda3_v1\\envs\\degree_stuff\\lib\\site-packages (from huggingface-hub>=0.27.0->diffusers) (4.67.1)\n",
      "Requirement already satisfied: typing-extensions>=3.7.4.3 in c:\\users\\rishabh\\miniconda3_v1\\envs\\degree_stuff\\lib\\site-packages (from huggingface-hub>=0.27.0->diffusers) (4.13.2)\n",
      "Requirement already satisfied: zipp>=3.20 in c:\\users\\rishabh\\miniconda3_v1\\envs\\degree_stuff\\lib\\site-packages (from importlib_metadata->diffusers) (3.21.0)\n",
      "Requirement already satisfied: charset-normalizer<4,>=2 in c:\\users\\rishabh\\miniconda3_v1\\envs\\degree_stuff\\lib\\site-packages (from requests->diffusers) (3.4.1)\n",
      "Requirement already satisfied: idna<4,>=2.5 in c:\\users\\rishabh\\miniconda3_v1\\envs\\degree_stuff\\lib\\site-packages (from requests->diffusers) (3.10)\n",
      "Requirement already satisfied: urllib3<3,>=1.21.1 in c:\\users\\rishabh\\miniconda3_v1\\envs\\degree_stuff\\lib\\site-packages (from requests->diffusers) (2.4.0)\n",
      "Requirement already satisfied: certifi>=2017.4.17 in c:\\users\\rishabh\\miniconda3_v1\\envs\\degree_stuff\\lib\\site-packages (from requests->diffusers) (2025.4.26)\n",
      "Requirement already satisfied: colorama in c:\\users\\rishabh\\miniconda3_v1\\envs\\degree_stuff\\lib\\site-packages (from tqdm>=4.42.1->huggingface-hub>=0.27.0->diffusers) (0.4.6)\n",
      "Downloading diffusers-0.34.0-py3-none-any.whl (3.8 MB)\n",
      "   ---------------------------------------- 0.0/3.8 MB ? eta -:--:--\n",
      "   --------------------------- ------------ 2.6/3.8 MB 16.9 MB/s eta 0:00:01\n",
      "   ---------------------------------------- 3.8/3.8 MB 15.0 MB/s eta 0:00:00\n",
      "Installing collected packages: diffusers\n",
      "Successfully installed diffusers-0.34.0\n"
     ]
    }
   ],
   "source": [
    "!pip install diffusers"
   ]
  },
  {
   "cell_type": "code",
   "execution_count": 2,
   "id": "5e45ac09",
   "metadata": {},
   "outputs": [
    {
     "name": "stderr",
     "output_type": "stream",
     "text": [
      "c:\\Users\\Rishabh\\miniconda3_v1\\envs\\degree_stuff\\lib\\site-packages\\tqdm\\auto.py:21: TqdmWarning: IProgress not found. Please update jupyter and ipywidgets. See https://ipywidgets.readthedocs.io/en/stable/user_install.html\n",
      "  from .autonotebook import tqdm as notebook_tqdm\n",
      "Loading pipeline components...: 100%|██████████| 6/6 [00:02<00:00,  2.38it/s]\n",
      "100%|██████████| 50/50 [00:05<00:00,  8.98it/s]\n"
     ]
    }
   ],
   "source": [
    "import torch\n",
    "from diffusers import StableDiffusionPipeline, DPMSolverMultistepScheduler\n",
    "\n",
    "model_id = \"stable-diffusion-2-1\"\n",
    "\n",
    "# Use the DPMSolverMultistepScheduler (DPM-Solver++) scheduler here instead\n",
    "pipe = StableDiffusionPipeline.from_pretrained(model_id, torch_dtype=torch.float16)\n",
    "pipe.scheduler = DPMSolverMultistepScheduler.from_config(pipe.scheduler.config)\n",
    "pipe = pipe.to(\"cuda\")\n",
    "\n",
    "prompt = \"a photo of an astronaut riding a horse on mars\"\n",
    "image = pipe(prompt).images[0]\n",
    "    \n",
    "image.save(\"astronaut_rides_horse.png\")"
   ]
  },
  {
   "cell_type": "code",
   "execution_count": null,
   "id": "709b2c14",
   "metadata": {},
   "outputs": [],
   "source": []
  }
 ],
 "metadata": {
  "kernelspec": {
   "display_name": "degree_stuff",
   "language": "python",
   "name": "python3"
  },
  "language_info": {
   "codemirror_mode": {
    "name": "ipython",
    "version": 3
   },
   "file_extension": ".py",
   "mimetype": "text/x-python",
   "name": "python",
   "nbconvert_exporter": "python",
   "pygments_lexer": "ipython3",
   "version": "3.10.14"
  }
 },
 "nbformat": 4,
 "nbformat_minor": 5
}
